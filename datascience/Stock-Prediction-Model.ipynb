{
 "cells": [
  {
   "cell_type": "code",
   "execution_count": 3,
   "metadata": {},
   "outputs": [],
   "source": [
    "# import sys\n",
    "# !{sys.executable} -m pip install "
   ]
  },
  {
   "cell_type": "code",
   "execution_count": 4,
   "metadata": {},
   "outputs": [
    {
     "ename": "ModuleNotFoundError",
     "evalue": "No module named 'fbprophet'",
     "output_type": "error",
     "traceback": [
      "\u001b[0;31m---------------------------------------------------------------------------\u001b[0m",
      "\u001b[0;31mModuleNotFoundError\u001b[0m                       Traceback (most recent call last)",
      "\u001b[0;32m<ipython-input-4-67fa45a41bc8>\u001b[0m in \u001b[0;36m<module>\u001b[0;34m\u001b[0m\n\u001b[1;32m      1\u001b[0m \u001b[0;32mimport\u001b[0m \u001b[0mmatplotlib\u001b[0m\u001b[0;34m\u001b[0m\u001b[0;34m\u001b[0m\u001b[0m\n\u001b[1;32m      2\u001b[0m \u001b[0;32mimport\u001b[0m \u001b[0mmatplotlib\u001b[0m\u001b[0;34m.\u001b[0m\u001b[0mpyplot\u001b[0m \u001b[0;32mas\u001b[0m \u001b[0mplt\u001b[0m\u001b[0;34m\u001b[0m\u001b[0;34m\u001b[0m\u001b[0m\n\u001b[0;32m----> 3\u001b[0;31m \u001b[0;32mfrom\u001b[0m \u001b[0mstocker\u001b[0m \u001b[0;32mimport\u001b[0m \u001b[0mStocker\u001b[0m\u001b[0;34m\u001b[0m\u001b[0;34m\u001b[0m\u001b[0m\n\u001b[0m",
      "\u001b[0;32m~/Documents/Dev/digift/datascience/stocker.py\u001b[0m in \u001b[0;36m<module>\u001b[0;34m\u001b[0m\n\u001b[1;32m      4\u001b[0m \u001b[0;32mimport\u001b[0m \u001b[0mpandas\u001b[0m \u001b[0;32mas\u001b[0m \u001b[0mpd\u001b[0m\u001b[0;34m\u001b[0m\u001b[0;34m\u001b[0m\u001b[0m\n\u001b[1;32m      5\u001b[0m \u001b[0;32mimport\u001b[0m \u001b[0mnumpy\u001b[0m \u001b[0;32mas\u001b[0m \u001b[0mnp\u001b[0m\u001b[0;34m\u001b[0m\u001b[0;34m\u001b[0m\u001b[0m\n\u001b[0;32m----> 6\u001b[0;31m \u001b[0;32mimport\u001b[0m \u001b[0mfbprophet\u001b[0m\u001b[0;34m\u001b[0m\u001b[0;34m\u001b[0m\u001b[0m\n\u001b[0m\u001b[1;32m      7\u001b[0m \u001b[0;32mimport\u001b[0m \u001b[0mpytrends\u001b[0m\u001b[0;34m\u001b[0m\u001b[0;34m\u001b[0m\u001b[0m\n\u001b[1;32m      8\u001b[0m \u001b[0;32mfrom\u001b[0m \u001b[0mpytrends\u001b[0m\u001b[0;34m.\u001b[0m\u001b[0mrequest\u001b[0m \u001b[0;32mimport\u001b[0m \u001b[0mTrendReq\u001b[0m\u001b[0;34m\u001b[0m\u001b[0;34m\u001b[0m\u001b[0m\n",
      "\u001b[0;31mModuleNotFoundError\u001b[0m: No module named 'fbprophet'"
     ]
    }
   ],
   "source": [
    "import matplotlib\n",
    "import matplotlib.pyplot as plt\n",
    "from stocker import Stocker"
   ]
  },
  {
   "cell_type": "code",
   "execution_count": 38,
   "metadata": {},
   "outputs": [],
   "source": [
    "microsoft = Stocker('MSTF')"
   ]
  },
  {
   "cell_type": "code",
   "execution_count": 39,
   "metadata": {},
   "outputs": [
    {
     "data": {
      "text/html": [
       "<div>\n",
       "<style scoped>\n",
       "    .dataframe tbody tr th:only-of-type {\n",
       "        vertical-align: middle;\n",
       "    }\n",
       "\n",
       "    .dataframe tbody tr th {\n",
       "        vertical-align: top;\n",
       "    }\n",
       "\n",
       "    .dataframe thead th {\n",
       "        text-align: right;\n",
       "    }\n",
       "</style>\n",
       "<table border=\"1\" class=\"dataframe\">\n",
       "  <thead>\n",
       "    <tr style=\"text-align: right;\">\n",
       "      <th></th>\n",
       "      <th>Open</th>\n",
       "      <th>High</th>\n",
       "      <th>Low</th>\n",
       "      <th>Last</th>\n",
       "      <th>Close</th>\n",
       "      <th>Total Trade Quantity</th>\n",
       "      <th>Turnover (Lacs)</th>\n",
       "    </tr>\n",
       "    <tr>\n",
       "      <th>Date</th>\n",
       "      <th></th>\n",
       "      <th></th>\n",
       "      <th></th>\n",
       "      <th></th>\n",
       "      <th></th>\n",
       "      <th></th>\n",
       "      <th></th>\n",
       "    </tr>\n",
       "  </thead>\n",
       "  <tbody>\n",
       "    <tr>\n",
       "      <th>2006-08-28</th>\n",
       "      <td>521.0</td>\n",
       "      <td>569.0</td>\n",
       "      <td>502.00</td>\n",
       "      <td>553.00</td>\n",
       "      <td>554.25</td>\n",
       "      <td>15166163.0</td>\n",
       "      <td>83717.60</td>\n",
       "    </tr>\n",
       "    <tr>\n",
       "      <th>2006-08-29</th>\n",
       "      <td>555.0</td>\n",
       "      <td>563.9</td>\n",
       "      <td>535.55</td>\n",
       "      <td>536.10</td>\n",
       "      <td>539.30</td>\n",
       "      <td>3929113.0</td>\n",
       "      <td>21515.30</td>\n",
       "    </tr>\n",
       "    <tr>\n",
       "      <th>2006-08-30</th>\n",
       "      <td>537.0</td>\n",
       "      <td>542.9</td>\n",
       "      <td>521.50</td>\n",
       "      <td>529.00</td>\n",
       "      <td>528.10</td>\n",
       "      <td>2034983.0</td>\n",
       "      <td>10776.30</td>\n",
       "    </tr>\n",
       "    <tr>\n",
       "      <th>2006-08-31</th>\n",
       "      <td>525.0</td>\n",
       "      <td>544.0</td>\n",
       "      <td>515.00</td>\n",
       "      <td>539.35</td>\n",
       "      <td>538.45</td>\n",
       "      <td>1670990.0</td>\n",
       "      <td>8904.46</td>\n",
       "    </tr>\n",
       "    <tr>\n",
       "      <th>2006-09-01</th>\n",
       "      <td>539.0</td>\n",
       "      <td>549.0</td>\n",
       "      <td>535.10</td>\n",
       "      <td>541.35</td>\n",
       "      <td>541.85</td>\n",
       "      <td>1176195.0</td>\n",
       "      <td>6380.39</td>\n",
       "    </tr>\n",
       "  </tbody>\n",
       "</table>\n",
       "</div>"
      ],
      "text/plain": [
       "             Open   High     Low    Last   Close  Total Trade Quantity  \\\n",
       "Date                                                                     \n",
       "2006-08-28  521.0  569.0  502.00  553.00  554.25            15166163.0   \n",
       "2006-08-29  555.0  563.9  535.55  536.10  539.30             3929113.0   \n",
       "2006-08-30  537.0  542.9  521.50  529.00  528.10             2034983.0   \n",
       "2006-08-31  525.0  544.0  515.00  539.35  538.45             1670990.0   \n",
       "2006-09-01  539.0  549.0  535.10  541.35  541.85             1176195.0   \n",
       "\n",
       "            Turnover (Lacs)  \n",
       "Date                         \n",
       "2006-08-28         83717.60  \n",
       "2006-08-29         21515.30  \n",
       "2006-08-30         10776.30  \n",
       "2006-08-31          8904.46  \n",
       "2006-09-01          6380.39  "
      ]
     },
     "execution_count": 39,
     "metadata": {},
     "output_type": "execute_result"
    }
   ],
   "source": [
    "stock_history = microsoft.stock\n",
    "stock_history.head()"
   ]
  },
  {
   "cell_type": "code",
   "execution_count": 41,
   "metadata": {},
   "outputs": [
    {
     "data": {
      "text/html": [
       "<div>\n",
       "<style scoped>\n",
       "    .dataframe tbody tr th:only-of-type {\n",
       "        vertical-align: middle;\n",
       "    }\n",
       "\n",
       "    .dataframe tbody tr th {\n",
       "        vertical-align: top;\n",
       "    }\n",
       "\n",
       "    .dataframe thead th {\n",
       "        text-align: right;\n",
       "    }\n",
       "</style>\n",
       "<table border=\"1\" class=\"dataframe\">\n",
       "  <thead>\n",
       "    <tr style=\"text-align: right;\">\n",
       "      <th></th>\n",
       "      <th>Open</th>\n",
       "      <th>High</th>\n",
       "      <th>Low</th>\n",
       "      <th>Close</th>\n",
       "    </tr>\n",
       "    <tr>\n",
       "      <th>Date</th>\n",
       "      <th></th>\n",
       "      <th></th>\n",
       "      <th></th>\n",
       "      <th></th>\n",
       "    </tr>\n",
       "  </thead>\n",
       "  <tbody>\n",
       "    <tr>\n",
       "      <th>2008-07-08</th>\n",
       "      <td>NaN</td>\n",
       "      <td>NaN</td>\n",
       "      <td>NaN</td>\n",
       "      <td>1415.09</td>\n",
       "    </tr>\n",
       "    <tr>\n",
       "      <th>2008-07-09</th>\n",
       "      <td>NaN</td>\n",
       "      <td>NaN</td>\n",
       "      <td>NaN</td>\n",
       "      <td>1471.62</td>\n",
       "    </tr>\n",
       "    <tr>\n",
       "      <th>2008-07-10</th>\n",
       "      <td>NaN</td>\n",
       "      <td>NaN</td>\n",
       "      <td>NaN</td>\n",
       "      <td>1486.05</td>\n",
       "    </tr>\n",
       "    <tr>\n",
       "      <th>2008-07-11</th>\n",
       "      <td>NaN</td>\n",
       "      <td>NaN</td>\n",
       "      <td>NaN</td>\n",
       "      <td>1446.56</td>\n",
       "    </tr>\n",
       "    <tr>\n",
       "      <th>2008-07-14</th>\n",
       "      <td>NaN</td>\n",
       "      <td>NaN</td>\n",
       "      <td>NaN</td>\n",
       "      <td>1460.94</td>\n",
       "    </tr>\n",
       "  </tbody>\n",
       "</table>\n",
       "</div>"
      ],
      "text/plain": [
       "            Open  High  Low    Close\n",
       "Date                                \n",
       "2008-07-08   NaN   NaN  NaN  1415.09\n",
       "2008-07-09   NaN   NaN  NaN  1471.62\n",
       "2008-07-10   NaN   NaN  NaN  1486.05\n",
       "2008-07-11   NaN   NaN  NaN  1446.56\n",
       "2008-07-14   NaN   NaN  NaN  1460.94"
      ]
     },
     "execution_count": 41,
     "metadata": {},
     "output_type": "execute_result"
    }
   ],
   "source": [
    "microsoft.plot_stock()"
   ]
  },
  {
   "cell_type": "code",
   "execution_count": null,
   "metadata": {},
   "outputs": [],
   "source": [
    "microsoft.plot_stock(start_date = \"2000-01-03\", end_date=\"2018-01-16\", stats = ['Daily Change', 'Adj. Volume'], plot_type='pct')"
   ]
  },
  {
   "cell_type": "code",
   "execution_count": null,
   "metadata": {},
   "outputs": [],
   "source": [
    "microsoft.buy_and_hold(start_date='1986-03-13', end_date='2020-01-19', nshares=100)"
   ]
  },
  {
   "cell_type": "code",
   "execution_count": null,
   "metadata": {},
   "outputs": [],
   "source": [
    "microsoft.buy_and_hold(start_date='1999-01-05', end_date='2002-01-03', nshares=100)"
   ]
  },
  {
   "cell_type": "code",
   "execution_count": null,
   "metadata": {},
   "outputs": [],
   "source": [
    "model, model_data = microsoft.create_prophet_model()"
   ]
  },
  {
   "cell_type": "code",
   "execution_count": null,
   "metadata": {},
   "outputs": [],
   "source": [
    "model.plot_components(model_data)\n",
    "plt.show()"
   ]
  },
  {
   "cell_type": "code",
   "execution_count": null,
   "metadata": {},
   "outputs": [],
   "source": [
    "print(microsoft.weekly_seasonality)\n",
    "microsoft.weekly_seasonality = True\n",
    "print(microsoft.weekly_seasonality)"
   ]
  },
  {
   "cell_type": "code",
   "execution_count": null,
   "metadata": {},
   "outputs": [],
   "source": [
    "model, model_data = microsoft.create_prophet_model(days=0)"
   ]
  },
  {
   "cell_type": "code",
   "execution_count": null,
   "metadata": {},
   "outputs": [],
   "source": [
    "model.plot_components(model_data)\n",
    "plt.show()"
   ]
  },
  {
   "cell_type": "code",
   "execution_count": null,
   "metadata": {},
   "outputs": [],
   "source": [
    "from sklearn.linear_model import LinearRegression\n",
    "def get_preds_lin_reg(df, target_col, N, pred_min, offset):\n",
    "    \"\"\"\n",
    "    Given a dataframe, get prediction at each timestep\n",
    "    Inputs\n",
    "        df         : dataframe with the values you want to predict     \n",
    "        target_col : name of the column you want to predict\n",
    "        N          : use previous N values to do prediction\n",
    "        pred_min   : all predictions should be >= pred_min\n",
    "        offset     : for df we only do predictions for df[offset:]\n",
    "    Outputs\n",
    "        pred_list  : the predictions for target_col\n",
    "    \"\"\"\n",
    "    # Create linear regression object\n",
    "    regr = LinearRegression(fit_intercept=True)\n",
    "    pred_list = []\n",
    "    for i in range(offset, len(df['Adj Close'])):\n",
    "        X_train = np.array(range(len(df['Adj Close'][i-N:i]))) \n",
    "        y_train = np.array(df['Adj Close'][i-N:i]) \n",
    "        X_train = X_train.reshape(-1, 1)     \n",
    "        y_train = y_train.reshape(-1, 1)\n",
    "        regr.fit(X_train, y_train)            # Train the model\n",
    "        pred = regr.predict(N)\n",
    "    \n",
    "        pred_list.append(pred[0][0])  \n",
    "    \n",
    "    # If the values are < pred_min, set it to be pred_min\n",
    "    pred_list = np.array(pred_list)\n",
    "    pred_list[pred_list < pred_min] = pred_min\n",
    "        \n",
    "    return pred_list\n",
    "print(get_preds_lin_reg(df, df['Close'],df['Open'] ,df['Low'], 200))"
   ]
  },
  {
   "cell_type": "code",
   "execution_count": null,
   "metadata": {},
   "outputs": [],
   "source": [
    "import math\n",
    "import numpy as np\n",
    "from sklearn.metrics import mean_squared_error\n",
    "from xgboost import XGBRegressor\n",
    "def get_mape(y_true, y_pred): \n",
    "    \"\"\"\n",
    "    Compute mean absolute percentage error (MAPE)\n",
    "    \"\"\"\n",
    "    y_true, y_pred = np.array(y_true), np.array(y_pred)\n",
    "    return np.mean(np.abs((y_true - y_pred) / y_true)) * 100\n",
    "def train_pred_eval_model(X_train_scaled, \\\n",
    "                          y_train_scaled, \\\n",
    "                          X_test_scaled, \\\n",
    "                          y_test, \\\n",
    "                          col_mean, \\\n",
    "                          col_std, \\\n",
    "                          seed=100, \\\n",
    "                          n_estimators=100, \\\n",
    "                          max_depth=3, \\\n",
    "                          learning_rate=0.1, \\\n",
    "                          min_child_weight=1, \\\n",
    "                          subsample=1, \\\n",
    "                          colsample_bytree=1, \\\n",
    "                          colsample_bylevel=1, \\\n",
    "                          gamma=0):\n",
    "    '''\n",
    "    Train model, do prediction, scale back to original range and do \n",
    "    evaluation\n",
    "    Use XGBoost here.\n",
    "    Inputs\n",
    "        X_train_scaled     : features for training. Scaled to have \n",
    "                             mean 0 and variance 1\n",
    "        y_train_scaled     : target for training. Scaled to have \n",
    "                             mean 0 and variance 1\n",
    "        X_test_scaled      : features for test. Each sample is \n",
    "                             scaled to mean 0 and variance 1\n",
    "        y_test             : target for test. Actual values, not \n",
    "                             scaled\n",
    "        col_mean           : means used to scale each sample of \n",
    "                             X_test_scaled. Same length as \n",
    "                             X_test_scaled and y_test\n",
    "        col_std            : standard deviations used to scale each \n",
    "                             sample of X_test_scaled. Same length as \n",
    "                             X_test_scaled and y_test\n",
    "        seed               : model seed\n",
    "        n_estimators       : number of boosted trees to fit\n",
    "        max_depth          : maximum tree depth for base learners\n",
    "        learning_rate      : boosting learning rate (xgb’s “eta”)\n",
    "        min_child_weight   : minimum sum of instance weight(hessian) \n",
    "                             needed in a child\n",
    "        subsample          : subsample ratio of the training \n",
    "                             instance\n",
    "        colsample_bytree   : subsample ratio of columns when \n",
    "                             constructing each tree\n",
    "        colsample_bylevel  : subsample ratio of columns for each \n",
    "                             split, in each level\n",
    "        gamma              : minimum loss reduction required to make \n",
    "                             a further partition on a leaf node of \n",
    "                             the tree\n",
    "    Outputs\n",
    "        rmse               : root mean square error of y_test and \n",
    "                             est\n",
    "        mape               : mean absolute percentage error of \n",
    "                             y_test and est\n",
    "        est                : predicted values. Same length as y_test\n",
    "    '''\n",
    "    model = XGBRegressor(seed=model_seed,\n",
    "                         n_estimators=n_estimators,\n",
    "                         max_depth=max_depth,\n",
    "                         learning_rate=learning_rate,\n",
    "                         min_child_weight=min_child_weight,\n",
    "                         subsample=subsample,\n",
    "                         colsample_bytree=colsample_bytree,\n",
    "                         colsample_bylevel=colsample_bylevel,\n",
    "                         gamma=gamma)\n",
    "    \n",
    "    # Train the model\n",
    "    model.fit(X_train_scaled, y_train_scaled)\n",
    "    \n",
    "    # Get predicted labels and scale back to original range\n",
    "    est_scaled = model.predict(X_test_scaled)\n",
    "    est = est_scaled * col_std + col_mean\n",
    "    # Calculate RMSE\n",
    "    rmse = math.sqrt(mean_squared_error(y_test, est))\n",
    "    mape = get_mape(y_test, est)\n",
    "    \n",
    "    return rmse, mape, est"
   ]
  },
  {
   "cell_type": "code",
   "execution_count": null,
   "metadata": {},
   "outputs": [],
   "source": []
  },
  {
   "cell_type": "code",
   "execution_count": null,
   "metadata": {},
   "outputs": [],
   "source": []
  }
 ],
 "metadata": {
  "kernelspec": {
   "display_name": "Python 3",
   "language": "python",
   "name": "python3"
  },
  "language_info": {
   "codemirror_mode": {
    "name": "ipython",
    "version": 3
   },
   "file_extension": ".py",
   "mimetype": "text/x-python",
   "name": "python",
   "nbconvert_exporter": "python",
   "pygments_lexer": "ipython3",
   "version": "3.7.6"
  }
 },
 "nbformat": 4,
 "nbformat_minor": 2
}
